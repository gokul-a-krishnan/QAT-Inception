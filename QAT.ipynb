{
 "nbformat": 4,
 "nbformat_minor": 0,
 "metadata": {
  "colab": {
   "provenance": [],
   "gpuType": "T4"
  },
  "kernelspec": {
   "name": "python3",
   "language": "python",
   "display_name": "Python 3 (ipykernel)"
  },
  "language_info": {
   "name": "python"
  },
  "accelerator": "GPU"
 },
 "cells": [
  {
   "cell_type": "code",
   "outputs": [],
   "source": [
    "# Data is not disclosed since its given by Client.\n",
    "# Some parts of code may not available but you get the idea about QAT using TF"
   ],
   "metadata": {
    "collapsed": false
   }
  },
  {
   "cell_type": "code",
   "outputs": [],
   "source": [
    "!pip install tensorflow-model-optimization"
   ],
   "metadata": {
    "colab": {
     "base_uri": "https://localhost:8080/"
    },
    "id": "XXHmEk-PUx5s",
    "outputId": "17668911-bfe8-4f8b-9174-734de21f3359"
   },
   "execution_count": null
  },
  {
   "cell_type": "code",
   "source": [
    "from google.colab import drive\n",
    "\n",
    "drive.mount('/content/drive')"
   ],
   "metadata": {
    "colab": {
     "base_uri": "https://localhost:8080/"
    },
    "id": "S6fgvvXhVKkB",
    "outputId": "dd572cc7-06e2-489c-8583-b6be18cbda4a"
   },
   "execution_count": null,
   "outputs": []
  },
  {
   "cell_type": "code",
   "source": [
    "from os.path import join\n",
    "from os import listdir\n",
    "\n",
    "import cv2\n",
    "import numpy as np\n",
    "\n",
    "from tensorflow.keras.layers import Conv2D, BatchNormalization, Activation, MaxPooling2D, AveragePooling2D, concatenate, \\\n",
    "    GlobalAveragePooling2D, Dense, Input, Flatten\n",
    "from tensorflow.keras.models import Model\n",
    "from tensorflow.keras.utils import get_file, Sequence\n",
    "from tensorflow.keras.preprocessing.image import load_img, img_to_array\n",
    "from tensorflow.image import resize\n",
    "from tensorflow import sqrt\n",
    "from tensorflow.keras.losses import mean_squared_error\n",
    "\n",
    "import tensorflow_model_optimization as tfmot"
   ],
   "metadata": {
    "id": "Oeh51fSV-JjP"
   },
   "execution_count": null,
   "outputs": []
  },
  {
   "cell_type": "code",
   "source": [
    "data_root = \"data\"\n",
    "images_path = join(data_root, \"images\")\n",
    "labels_path = join(data_root, \"labels\")\n",
    "\n",
    "images_train_path = join(images_path, \"train\")\n",
    "images_val_path = join(images_path, \"val\")\n",
    "\n",
    "labels_train_path = join(labels_path, \"train\")\n",
    "labels_val_path = join(labels_path, \"val\")"
   ],
   "metadata": {
    "id": "feaLH5QQVGb6"
   },
   "execution_count": null,
   "outputs": []
  },
  {
   "cell_type": "code",
   "source": [
    "max_obj = 30\n",
    "image_size = (299, 299)\n",
    "input_shape = (299, 299, 3)\n",
    "retrain_baseline = False\n",
    "no_output_neurons = max_obj * 5\n",
    "batch_size = 16"
   ],
   "metadata": {
    "id": "l8419IqaVSwl"
   },
   "execution_count": null,
   "outputs": []
  },
  {
   "cell_type": "code",
   "source": [
    "def process(img_path, lbl_path):\n",
    "    labels = listdir(lbl_path)\n",
    "    xy = []\n",
    "    for i in range(len(labels)):\n",
    "        train_label = labels[i]\n",
    "        train_image = (train_label[:-4] + \".jpg\")\n",
    "        annotation_file_path = join(lbl_path, train_label)\n",
    "        image_file_path = join(img_path, train_image)\n",
    "        with open(annotation_file_path, \"r\") as annotation_file:\n",
    "            annotations = [([float(j) for j in i.strip().split(\" \")]) for i in annotation_file.readlines()]\n",
    "            for annotation in annotations:\n",
    "                annotation[0] = 1  # TODO since there is only one class\n",
    "            while len(annotations) < max_obj:\n",
    "                annotations.append([0, 0, 0, 0, 0])\n",
    "            if len(annotations) > max_obj:\n",
    "                annotations = annotations[:max_obj]\n",
    "        annotation = np.array(annotations)\n",
    "        xy.append([image_file_path, annotation.flatten()])\n",
    "    return xy\n"
   ],
   "metadata": {
    "id": "Vi6cWRu5VcKH"
   },
   "execution_count": null,
   "outputs": []
  },
  {
   "cell_type": "code",
   "source": [
    "def load_image(image_path, dsize):\n",
    "    image = cv2.imread(image_path)\n",
    "    image = cv2.resize(image, dsize)\n",
    "    image = image.astype(float)\n",
    "    image /= 255.0\n",
    "    return image"
   ],
   "metadata": {
    "id": "VHEigPTmVezR"
   },
   "execution_count": null,
   "outputs": []
  },
  {
   "cell_type": "code",
   "source": [
    "class CustomDataGenerator(Sequence):\n",
    "    def __init__(self, data, input_size, batch_size, shuffle=False):\n",
    "        self.data = data\n",
    "        self.input_size = input_size\n",
    "        self.batch_size = batch_size\n",
    "        self.shuffle = shuffle\n",
    "        self.n = len(data)\n",
    "        pass\n",
    "\n",
    "    def __get_input(self, path, target_size):\n",
    "        print(path)\n",
    "        image = load_img(path)\n",
    "        image_arr = img_to_array(image)\n",
    "        image_arr = resize(image_arr, (target_size[0], target_size[1])).numpy()\n",
    "        return image_arr / 255.\n",
    "\n",
    "    def __get_data(self, batches):\n",
    "        path_batch = [i[0] for i in batches]\n",
    "        y_batch = np.asarray([i[1] for i in batches])\n",
    "        x_batch = np.asarray([self.__get_input(i, self.input_size) for i in path_batch])\n",
    "\n",
    "        return x_batch, y_batch\n",
    "\n",
    "    def on_epoch_end(self):\n",
    "        if self.shuffle:\n",
    "            self.data = self.data.sample(frac=1).reset_index(drop=True)\n",
    "\n",
    "    def __getitem__(self, index):\n",
    "        batches = self.data[index * self.batch_size:(index + 1) * batch_size]\n",
    "        X, y = self.__get_data(batches)\n",
    "        return X, y\n",
    "\n",
    "    def __len__(self):\n",
    "        return self.n // self.batch_size\n"
   ],
   "metadata": {
    "id": "LD9yaZFpVhsG"
   },
   "execution_count": null,
   "outputs": []
  },
  {
   "cell_type": "code",
   "source": [
    "train_dataset = process(images_train_path, labels_train_path)\n",
    "val_dataset = process(images_val_path, labels_val_path)\n",
    "\n",
    "train_generator = CustomDataGenerator(train_dataset, image_size, batch_size)\n",
    "val_generator = CustomDataGenerator(val_dataset, image_size, batch_size)"
   ],
   "metadata": {
    "id": "vjDmD2SLWWRH"
   },
   "execution_count": null,
   "outputs": []
  },
  {
   "cell_type": "code",
   "source": [
    "def conv2d_bn(\n",
    "        x, filters, num_row, num_col, padding=\"same\", strides=(1, 1), name=None\n",
    "):\n",
    "    if name is not None:\n",
    "        bn_name = name + \"_bn\"\n",
    "        conv_name = name + \"_conv\"\n",
    "    else:\n",
    "        bn_name = None\n",
    "        conv_name = None\n",
    "    x = Conv2D(\n",
    "        filters,\n",
    "        (num_row, num_col),\n",
    "        strides=strides,\n",
    "        padding=padding,\n",
    "        use_bias=False,\n",
    "        name=conv_name,\n",
    "    )(x)\n",
    "    x = BatchNormalization(axis=3, scale=False, name=bn_name)(x)\n",
    "    x = Activation(\"relu\", name=name)(x)\n",
    "    return x\n",
    "\n",
    "\n",
    "def InceptionV3FeatureExtractor(input_shape):\n",
    "    channel_axis = 3\n",
    "    img_input = Input(shape=input_shape)\n",
    "\n",
    "    x = conv2d_bn(img_input, 32, 3, 3, strides=(2, 2), padding=\"valid\")\n",
    "    x = conv2d_bn(x, 32, 3, 3, padding=\"valid\")\n",
    "    x = conv2d_bn(x, 64, 3, 3)\n",
    "    x = MaxPooling2D((3, 3), strides=(2, 2))(x)\n",
    "\n",
    "    x = conv2d_bn(x, 80, 1, 1, padding=\"valid\")\n",
    "    x = conv2d_bn(x, 192, 3, 3, padding=\"valid\")\n",
    "    x = MaxPooling2D((3, 3), strides=(2, 2))(x)\n",
    "\n",
    "    # mixed 0: 35 x 35 x 256\n",
    "    branch1x1 = conv2d_bn(x, 64, 1, 1)\n",
    "\n",
    "    branch5x5 = conv2d_bn(x, 48, 1, 1)\n",
    "    branch5x5 = conv2d_bn(branch5x5, 64, 5, 5)\n",
    "\n",
    "    branch3x3dbl = conv2d_bn(x, 64, 1, 1)\n",
    "    branch3x3dbl = conv2d_bn(branch3x3dbl, 96, 3, 3)\n",
    "    branch3x3dbl = conv2d_bn(branch3x3dbl, 96, 3, 3)\n",
    "\n",
    "    branch_pool = AveragePooling2D((3, 3), strides=(1, 1), padding=\"same\")(x)\n",
    "    branch_pool = conv2d_bn(branch_pool, 32, 1, 1)\n",
    "    x = concatenate([branch1x1, branch5x5, branch3x3dbl, branch_pool],\n",
    "                    axis=channel_axis, name=\"mixed0\")\n",
    "\n",
    "    # mixed 1: 35 x 35 x 288\n",
    "    branch1x1 = conv2d_bn(x, 64, 1, 1)\n",
    "\n",
    "    branch5x5 = conv2d_bn(x, 48, 1, 1)\n",
    "    branch5x5 = conv2d_bn(branch5x5, 64, 5, 5)\n",
    "\n",
    "    branch3x3dbl = conv2d_bn(x, 64, 1, 1)\n",
    "    branch3x3dbl = conv2d_bn(branch3x3dbl, 96, 3, 3)\n",
    "    branch3x3dbl = conv2d_bn(branch3x3dbl, 96, 3, 3)\n",
    "\n",
    "    branch_pool = AveragePooling2D((3, 3), strides=(1, 1), padding=\"same\")(x)\n",
    "    branch_pool = conv2d_bn(branch_pool, 64, 1, 1)\n",
    "    x = concatenate([branch1x1, branch5x5, branch3x3dbl, branch_pool],\n",
    "                    axis=channel_axis, name=\"mixed1\")\n",
    "\n",
    "    # mixed 2: 35 x 35 x 288\n",
    "    branch1x1 = conv2d_bn(x, 64, 1, 1)\n",
    "\n",
    "    branch5x5 = conv2d_bn(x, 48, 1, 1)\n",
    "    branch5x5 = conv2d_bn(branch5x5, 64, 5, 5)\n",
    "\n",
    "    branch3x3dbl = conv2d_bn(x, 64, 1, 1)\n",
    "    branch3x3dbl = conv2d_bn(branch3x3dbl, 96, 3, 3)\n",
    "    branch3x3dbl = conv2d_bn(branch3x3dbl, 96, 3, 3)\n",
    "\n",
    "    branch_pool = AveragePooling2D((3, 3), strides=(1, 1), padding=\"same\")(x)\n",
    "    branch_pool = conv2d_bn(branch_pool, 64, 1, 1)\n",
    "    x = concatenate([branch1x1, branch5x5, branch3x3dbl, branch_pool],\n",
    "                    axis=channel_axis, name=\"mixed2\")\n",
    "\n",
    "    # mixed 3: 17 x 17 x 768\n",
    "    branch3x3 = conv2d_bn(x, 384, 3, 3, strides=(2, 2), padding=\"valid\")\n",
    "\n",
    "    branch3x3dbl = conv2d_bn(x, 64, 1, 1)\n",
    "    branch3x3dbl = conv2d_bn(branch3x3dbl, 96, 3, 3)\n",
    "    branch3x3dbl = conv2d_bn(branch3x3dbl, 96, 3, 3, strides=(2, 2),\n",
    "                             padding=\"valid\")\n",
    "\n",
    "    branch_pool = MaxPooling2D((3, 3), strides=(2, 2))(x)\n",
    "    x = concatenate([branch3x3, branch3x3dbl, branch_pool], axis=channel_axis,\n",
    "                    name=\"mixed3\")\n",
    "\n",
    "    # mixed 4: 17 x 17 x 768\n",
    "    branch1x1 = conv2d_bn(x, 192, 1, 1)\n",
    "\n",
    "    branch7x7 = conv2d_bn(x, 128, 1, 1)\n",
    "    branch7x7 = conv2d_bn(branch7x7, 128, 1, 7)\n",
    "    branch7x7 = conv2d_bn(branch7x7, 192, 7, 1)\n",
    "\n",
    "    branch7x7dbl = conv2d_bn(x, 128, 1, 1)\n",
    "    branch7x7dbl = conv2d_bn(branch7x7dbl, 128, 7, 1)\n",
    "    branch7x7dbl = conv2d_bn(branch7x7dbl, 128, 1, 7)\n",
    "    branch7x7dbl = conv2d_bn(branch7x7dbl, 128, 7, 1)\n",
    "    branch7x7dbl = conv2d_bn(branch7x7dbl, 192, 1, 7)\n",
    "\n",
    "    branch_pool = AveragePooling2D((3, 3), strides=(1, 1), padding=\"same\")(x)\n",
    "    branch_pool = conv2d_bn(branch_pool, 192, 1, 1)\n",
    "    x = concatenate([branch1x1, branch7x7, branch7x7dbl, branch_pool],\n",
    "                    axis=channel_axis, name=\"mixed4\")\n",
    "\n",
    "    # mixed 5, 6: 17 x 17 x 768\n",
    "    for i in range(2):\n",
    "        branch1x1 = conv2d_bn(x, 192, 1, 1)\n",
    "\n",
    "        branch7x7 = conv2d_bn(x, 160, 1, 1)\n",
    "        branch7x7 = conv2d_bn(branch7x7, 160, 1, 7)\n",
    "        branch7x7 = conv2d_bn(branch7x7, 192, 7, 1)\n",
    "\n",
    "        branch7x7dbl = conv2d_bn(x, 160, 1, 1)\n",
    "        branch7x7dbl = conv2d_bn(branch7x7dbl, 160, 7, 1)\n",
    "        branch7x7dbl = conv2d_bn(branch7x7dbl, 160, 1, 7)\n",
    "        branch7x7dbl = conv2d_bn(branch7x7dbl, 160, 7, 1)\n",
    "        branch7x7dbl = conv2d_bn(branch7x7dbl, 192, 1, 7)\n",
    "\n",
    "        branch_pool = AveragePooling2D((3, 3), strides=(1, 1), padding=\"same\")(x)\n",
    "        branch_pool = conv2d_bn(branch_pool, 192, 1, 1)\n",
    "        x = concatenate([branch1x1, branch7x7, branch7x7dbl, branch_pool],\n",
    "                        axis=channel_axis, name=\"mixed\" + str(5 + i))\n",
    "\n",
    "    # mixed 7: 17 x 17 x 768\n",
    "    branch1x1 = conv2d_bn(x, 192, 1, 1)\n",
    "\n",
    "    branch7x7 = conv2d_bn(x, 192, 1, 1)\n",
    "    branch7x7 = conv2d_bn(branch7x7, 192, 1, 7)\n",
    "    branch7x7 = conv2d_bn(branch7x7, 192, 7, 1)\n",
    "\n",
    "    branch7x7dbl = conv2d_bn(x, 192, 1, 1)\n",
    "    branch7x7dbl = conv2d_bn(branch7x7dbl, 192, 7, 1)\n",
    "    branch7x7dbl = conv2d_bn(branch7x7dbl, 192, 1, 7)\n",
    "    branch7x7dbl = conv2d_bn(branch7x7dbl, 192, 7, 1)\n",
    "    branch7x7dbl = conv2d_bn(branch7x7dbl, 192, 1, 7)\n",
    "\n",
    "    branch_pool = AveragePooling2D((3, 3), strides=(1, 1), padding=\"same\")(x)\n",
    "    branch_pool = conv2d_bn(branch_pool, 192, 1, 1)\n",
    "    x = concatenate([branch1x1, branch7x7, branch7x7dbl, branch_pool],\n",
    "                    axis=channel_axis, name=\"mixed7\")\n",
    "\n",
    "    # mixed 8: 8 x 8 x 1280\n",
    "    branch3x3 = conv2d_bn(x, 192, 1, 1)\n",
    "    branch3x3 = conv2d_bn(branch3x3, 320, 3, 3, strides=(2, 2), padding=\"valid\")\n",
    "\n",
    "    branch7x7x3 = conv2d_bn(x, 192, 1, 1)\n",
    "    branch7x7x3 = conv2d_bn(branch7x7x3, 192, 1, 7)\n",
    "    branch7x7x3 = conv2d_bn(branch7x7x3, 192, 7, 1)\n",
    "    branch7x7x3 = conv2d_bn(branch7x7x3, 192, 3, 3, strides=(2, 2),\n",
    "                            padding=\"valid\")\n",
    "\n",
    "    branch_pool = MaxPooling2D((3, 3), strides=(2, 2))(x)\n",
    "    x = concatenate([branch3x3, branch7x7x3, branch_pool], axis=channel_axis,\n",
    "                    name=\"mixed8\")\n",
    "\n",
    "    # mixed 9: 8 x 8 x 2048\n",
    "    for i in range(2):\n",
    "        branch1x1 = conv2d_bn(x, 320, 1, 1)\n",
    "\n",
    "        branch3x3 = conv2d_bn(x, 384, 1, 1)\n",
    "        branch3x3_1 = conv2d_bn(branch3x3, 384, 1, 3)\n",
    "        branch3x3_2 = conv2d_bn(branch3x3, 384, 3, 1)\n",
    "        branch3x3 = concatenate([branch3x3_1, branch3x3_2], axis=channel_axis,\n",
    "                                name=\"mixed9_\" + str(i), )\n",
    "\n",
    "        branch3x3dbl = conv2d_bn(x, 448, 1, 1)\n",
    "        branch3x3dbl = conv2d_bn(branch3x3dbl, 384, 3, 3)\n",
    "        branch3x3dbl_1 = conv2d_bn(branch3x3dbl, 384, 1, 3)\n",
    "        branch3x3dbl_2 = conv2d_bn(branch3x3dbl, 384, 3, 1)\n",
    "        branch3x3dbl = concatenate([branch3x3dbl_1, branch3x3dbl_2],\n",
    "                                   axis=channel_axis)\n",
    "\n",
    "        branch_pool = AveragePooling2D((3, 3), strides=(1, 1), padding=\"same\")(x)\n",
    "        branch_pool = conv2d_bn(branch_pool, 192, 1, 1)\n",
    "        x = concatenate([branch1x1, branch3x3, branch3x3dbl, branch_pool],\n",
    "                        axis=channel_axis, name=\"mixed\" + str(9 + i))\n",
    "\n",
    "    # # classification layer\n",
    "    # x = GlobalAveragePooling2D(name=\"avg_pool\")(x)\n",
    "    # x = Dense(\n",
    "    #     1000, activation=\"softmax\", name=\"predictions\"\n",
    "    # )(x)\n",
    "    # model = Model(img_input, x, name=\"inception_v3\")\n",
    "\n",
    "    WEIGHTS_PATH = \"https://storage.googleapis.com/tensorflow/keras-applications/inception_v3/inception_v3_weights_tf_dim_ordering_tf_kernels_notop.h5\"\n",
    "    weights_path = get_file(\"inception_v3_weights_tf_dim_ordering_tf_kernels_notop.h5\", WEIGHTS_PATH,\n",
    "                            cache_subdir=\"models\", file_hash=\"bcbd6486424b2319ff4ef7d526e38f63\")\n",
    "\n",
    "    model = Model(img_input, x, name=\"inception_v3\")\n",
    "    model.load_weights(weights_path)\n",
    "    return model\n"
   ],
   "metadata": {
    "id": "75sy7K4sB4Qa"
   },
   "execution_count": null,
   "outputs": []
  },
  {
   "cell_type": "code",
   "source": [
    "def InceptionV3(input_shape):\n",
    "    channel_axis = 3\n",
    "    img_input = Input(shape=input_shape)\n",
    "\n",
    "    x = conv2d_bn(img_input, 32, 3, 3, strides=(2, 2), padding=\"valid\")\n",
    "    x = conv2d_bn(x, 32, 3, 3, padding=\"valid\")\n",
    "    x = conv2d_bn(x, 64, 3, 3)\n",
    "    x = MaxPooling2D((3, 3), strides=(2, 2))(x)\n",
    "\n",
    "    x = conv2d_bn(x, 80, 1, 1, padding=\"valid\")\n",
    "    x = conv2d_bn(x, 192, 3, 3, padding=\"valid\")\n",
    "    x = MaxPooling2D((3, 3), strides=(2, 2))(x)\n",
    "\n",
    "    # mixed 0: 35 x 35 x 256\n",
    "    branch1x1 = conv2d_bn(x, 64, 1, 1)\n",
    "\n",
    "    branch5x5 = conv2d_bn(x, 48, 1, 1)\n",
    "    branch5x5 = conv2d_bn(branch5x5, 64, 5, 5)\n",
    "\n",
    "    branch3x3dbl = conv2d_bn(x, 64, 1, 1)\n",
    "    branch3x3dbl = conv2d_bn(branch3x3dbl, 96, 3, 3)\n",
    "    branch3x3dbl = conv2d_bn(branch3x3dbl, 96, 3, 3)\n",
    "\n",
    "    branch_pool = AveragePooling2D((3, 3), strides=(1, 1), padding=\"same\")(x)\n",
    "    branch_pool = conv2d_bn(branch_pool, 32, 1, 1)\n",
    "    x = concatenate([branch1x1, branch5x5, branch3x3dbl, branch_pool],\n",
    "                    axis=channel_axis, name=\"mixed0\")\n",
    "\n",
    "    # mixed 1: 35 x 35 x 288\n",
    "    branch1x1 = conv2d_bn(x, 64, 1, 1)\n",
    "\n",
    "    branch5x5 = conv2d_bn(x, 48, 1, 1)\n",
    "    branch5x5 = conv2d_bn(branch5x5, 64, 5, 5)\n",
    "\n",
    "    branch3x3dbl = conv2d_bn(x, 64, 1, 1)\n",
    "    branch3x3dbl = conv2d_bn(branch3x3dbl, 96, 3, 3)\n",
    "    branch3x3dbl = conv2d_bn(branch3x3dbl, 96, 3, 3)\n",
    "\n",
    "    branch_pool = AveragePooling2D((3, 3), strides=(1, 1), padding=\"same\")(x)\n",
    "    branch_pool = conv2d_bn(branch_pool, 64, 1, 1)\n",
    "    x = concatenate([branch1x1, branch5x5, branch3x3dbl, branch_pool],\n",
    "                    axis=channel_axis, name=\"mixed1\")\n",
    "\n",
    "    # mixed 2: 35 x 35 x 288\n",
    "    branch1x1 = conv2d_bn(x, 64, 1, 1)\n",
    "\n",
    "    branch5x5 = conv2d_bn(x, 48, 1, 1)\n",
    "    branch5x5 = conv2d_bn(branch5x5, 64, 5, 5)\n",
    "\n",
    "    branch3x3dbl = conv2d_bn(x, 64, 1, 1)\n",
    "    branch3x3dbl = conv2d_bn(branch3x3dbl, 96, 3, 3)\n",
    "    branch3x3dbl = conv2d_bn(branch3x3dbl, 96, 3, 3)\n",
    "\n",
    "    branch_pool = AveragePooling2D((3, 3), strides=(1, 1), padding=\"same\")(x)\n",
    "    branch_pool = conv2d_bn(branch_pool, 64, 1, 1)\n",
    "    x = concatenate([branch1x1, branch5x5, branch3x3dbl, branch_pool],\n",
    "                    axis=channel_axis, name=\"mixed2\")\n",
    "\n",
    "    # mixed 3: 17 x 17 x 768\n",
    "    branch3x3 = conv2d_bn(x, 384, 3, 3, strides=(2, 2), padding=\"valid\")\n",
    "\n",
    "    branch3x3dbl = conv2d_bn(x, 64, 1, 1)\n",
    "    branch3x3dbl = conv2d_bn(branch3x3dbl, 96, 3, 3)\n",
    "    branch3x3dbl = conv2d_bn(branch3x3dbl, 96, 3, 3, strides=(2, 2),\n",
    "                             padding=\"valid\")\n",
    "\n",
    "    branch_pool = MaxPooling2D((3, 3), strides=(2, 2))(x)\n",
    "    x = concatenate([branch3x3, branch3x3dbl, branch_pool], axis=channel_axis,\n",
    "                    name=\"mixed3\")\n",
    "\n",
    "    # mixed 4: 17 x 17 x 768\n",
    "    branch1x1 = conv2d_bn(x, 192, 1, 1)\n",
    "\n",
    "    branch7x7 = conv2d_bn(x, 128, 1, 1)\n",
    "    branch7x7 = conv2d_bn(branch7x7, 128, 1, 7)\n",
    "    branch7x7 = conv2d_bn(branch7x7, 192, 7, 1)\n",
    "\n",
    "    branch7x7dbl = conv2d_bn(x, 128, 1, 1)\n",
    "    branch7x7dbl = conv2d_bn(branch7x7dbl, 128, 7, 1)\n",
    "    branch7x7dbl = conv2d_bn(branch7x7dbl, 128, 1, 7)\n",
    "    branch7x7dbl = conv2d_bn(branch7x7dbl, 128, 7, 1)\n",
    "    branch7x7dbl = conv2d_bn(branch7x7dbl, 192, 1, 7)\n",
    "\n",
    "    branch_pool = AveragePooling2D((3, 3), strides=(1, 1), padding=\"same\")(x)\n",
    "    branch_pool = conv2d_bn(branch_pool, 192, 1, 1)\n",
    "    x = concatenate([branch1x1, branch7x7, branch7x7dbl, branch_pool],\n",
    "                    axis=channel_axis, name=\"mixed4\")\n",
    "\n",
    "    # mixed 5, 6: 17 x 17 x 768\n",
    "    for i in range(2):\n",
    "        branch1x1 = conv2d_bn(x, 192, 1, 1)\n",
    "\n",
    "        branch7x7 = conv2d_bn(x, 160, 1, 1)\n",
    "        branch7x7 = conv2d_bn(branch7x7, 160, 1, 7)\n",
    "        branch7x7 = conv2d_bn(branch7x7, 192, 7, 1)\n",
    "\n",
    "        branch7x7dbl = conv2d_bn(x, 160, 1, 1)\n",
    "        branch7x7dbl = conv2d_bn(branch7x7dbl, 160, 7, 1)\n",
    "        branch7x7dbl = conv2d_bn(branch7x7dbl, 160, 1, 7)\n",
    "        branch7x7dbl = conv2d_bn(branch7x7dbl, 160, 7, 1)\n",
    "        branch7x7dbl = conv2d_bn(branch7x7dbl, 192, 1, 7)\n",
    "\n",
    "        branch_pool = AveragePooling2D((3, 3), strides=(1, 1), padding=\"same\")(x)\n",
    "        branch_pool = conv2d_bn(branch_pool, 192, 1, 1)\n",
    "        x = concatenate([branch1x1, branch7x7, branch7x7dbl, branch_pool],\n",
    "                        axis=channel_axis, name=\"mixed\" + str(5 + i))\n",
    "\n",
    "    # mixed 7: 17 x 17 x 768\n",
    "    branch1x1 = conv2d_bn(x, 192, 1, 1)\n",
    "\n",
    "    branch7x7 = conv2d_bn(x, 192, 1, 1)\n",
    "    branch7x7 = conv2d_bn(branch7x7, 192, 1, 7)\n",
    "    branch7x7 = conv2d_bn(branch7x7, 192, 7, 1)\n",
    "\n",
    "    branch7x7dbl = conv2d_bn(x, 192, 1, 1)\n",
    "    branch7x7dbl = conv2d_bn(branch7x7dbl, 192, 7, 1)\n",
    "    branch7x7dbl = conv2d_bn(branch7x7dbl, 192, 1, 7)\n",
    "    branch7x7dbl = conv2d_bn(branch7x7dbl, 192, 7, 1)\n",
    "    branch7x7dbl = conv2d_bn(branch7x7dbl, 192, 1, 7)\n",
    "\n",
    "    branch_pool = AveragePooling2D((3, 3), strides=(1, 1), padding=\"same\")(x)\n",
    "    branch_pool = conv2d_bn(branch_pool, 192, 1, 1)\n",
    "    x = concatenate([branch1x1, branch7x7, branch7x7dbl, branch_pool],\n",
    "                    axis=channel_axis, name=\"mixed7\")\n",
    "\n",
    "    # mixed 8: 8 x 8 x 1280\n",
    "    branch3x3 = conv2d_bn(x, 192, 1, 1)\n",
    "    branch3x3 = conv2d_bn(branch3x3, 320, 3, 3, strides=(2, 2), padding=\"valid\")\n",
    "\n",
    "    branch7x7x3 = conv2d_bn(x, 192, 1, 1)\n",
    "    branch7x7x3 = conv2d_bn(branch7x7x3, 192, 1, 7)\n",
    "    branch7x7x3 = conv2d_bn(branch7x7x3, 192, 7, 1)\n",
    "    branch7x7x3 = conv2d_bn(branch7x7x3, 192, 3, 3, strides=(2, 2),\n",
    "                            padding=\"valid\")\n",
    "\n",
    "    branch_pool = MaxPooling2D((3, 3), strides=(2, 2))(x)\n",
    "    x = concatenate([branch3x3, branch7x7x3, branch_pool], axis=channel_axis,\n",
    "                    name=\"mixed8\")\n",
    "\n",
    "    # mixed 9: 8 x 8 x 2048\n",
    "    for i in range(2):\n",
    "        branch1x1 = conv2d_bn(x, 320, 1, 1)\n",
    "\n",
    "        branch3x3 = conv2d_bn(x, 384, 1, 1)\n",
    "        branch3x3_1 = conv2d_bn(branch3x3, 384, 1, 3)\n",
    "        branch3x3_2 = conv2d_bn(branch3x3, 384, 3, 1)\n",
    "        branch3x3 = concatenate([branch3x3_1, branch3x3_2], axis=channel_axis,\n",
    "                                name=\"mixed9_\" + str(i), )\n",
    "\n",
    "        branch3x3dbl = conv2d_bn(x, 448, 1, 1)\n",
    "        branch3x3dbl = conv2d_bn(branch3x3dbl, 384, 3, 3)\n",
    "        branch3x3dbl_1 = conv2d_bn(branch3x3dbl, 384, 1, 3)\n",
    "        branch3x3dbl_2 = conv2d_bn(branch3x3dbl, 384, 3, 1)\n",
    "        branch3x3dbl = concatenate([branch3x3dbl_1, branch3x3dbl_2],\n",
    "                                   axis=channel_axis)\n",
    "\n",
    "        branch_pool = AveragePooling2D((3, 3), strides=(1, 1), padding=\"same\")(x)\n",
    "        branch_pool = conv2d_bn(branch_pool, 192, 1, 1)\n",
    "        x = concatenate([branch1x1, branch3x3, branch3x3dbl, branch_pool],\n",
    "                        axis=channel_axis, name=\"mixed\" + str(9 + i))\n",
    "\n",
    "    x = Flatten()(x)\n",
    "    x = Dense(256, activation=\"relu\")(x)\n",
    "    x = Dense(no_output_neurons, activation=\"sigmoid\")(x)\n",
    "\n",
    "    model = Model(img_input, x, name=\"inception_v3\")\n",
    "    return model\n"
   ],
   "metadata": {
    "id": "8zhF3MLvRLXN"
   },
   "execution_count": null,
   "outputs": []
  },
  {
   "cell_type": "code",
   "source": [
    "f_model = InceptionV3FeatureExtractor((299, 299, 3))"
   ],
   "metadata": {
    "id": "jMgL_WbYMHNU"
   },
   "execution_count": null,
   "outputs": []
  },
  {
   "cell_type": "code",
   "source": [
    "model = InceptionV3((299, 299, 3))"
   ],
   "metadata": {
    "id": "q1a1fjXfRceY"
   },
   "execution_count": null,
   "outputs": []
  },
  {
   "cell_type": "code",
   "source": [
    "weights_list = f_model.get_weights()\n",
    "\n",
    "for i, l in enumerate(f_model.layers):\n",
    "    w = f_model.layers[i].weights\n",
    "    model.layers[i].set_weights(w)"
   ],
   "metadata": {
    "id": "yvs6QDcuRivq"
   },
   "execution_count": null,
   "outputs": []
  },
  {
   "cell_type": "code",
   "source": [
    "def rmse(y_true, y_pred):\n",
    "    return sqrt(mean_squared_error(y_true, y_pred))"
   ],
   "metadata": {
    "id": "bghoREqRWjgR"
   },
   "execution_count": null,
   "outputs": []
  },
  {
   "cell_type": "code",
   "source": [
    "quantize_model = tfmot.quantization.keras.quantize_model"
   ],
   "metadata": {
    "id": "G9tmzwVtXd24"
   },
   "execution_count": null,
   "outputs": []
  },
  {
   "cell_type": "code",
   "source": [
    "q_model = quantize_model(model)"
   ],
   "metadata": {
    "id": "yCWjIvg_Xg_X"
   },
   "execution_count": null,
   "outputs": []
  },
  {
   "cell_type": "code",
   "source": [
    "q_model.compile(optimizer=\"adam\", loss=rmse, metrics=[\"mae\"])"
   ],
   "metadata": {
    "id": "ldn8QBONXn5n"
   },
   "execution_count": null,
   "outputs": []
  },
  {
   "cell_type": "code",
   "source": [
    "q_model.summary()"
   ],
   "metadata": {
    "id": "kPdGhPzZXpKn"
   },
   "execution_count": null,
   "outputs": []
  },
  {
   "cell_type": "code",
   "source": [
    "hist = q_model.fit(train_generator, validation_data=val_generator, epochs=50)"
   ],
   "metadata": {
    "colab": {
     "base_uri": "https://localhost:8080/"
    },
    "id": "WQ8kL4pLXugN",
    "outputId": "3ef64484-f6e7-4d9b-bb71-c2518a0cd3db"
   },
   "execution_count": null,
   "outputs": []
  },
  {
   "cell_type": "code",
   "source": [
    "q_model.save(\"q_model\")"
   ],
   "metadata": {
    "id": "xrWG3VxxZBcW"
   },
   "execution_count": null,
   "outputs": []
  },
  {
   "cell_type": "code",
   "execution_count": null,
   "outputs": [],
   "source": [
    "from tensorflow import lite"
   ],
   "metadata": {
    "collapsed": false
   }
  },
  {
   "cell_type": "code",
   "execution_count": null,
   "outputs": [],
   "source": [
    "converter = lite.TFLiteConverter.from_keras_model(q_model)\n",
    "converter.optimizations = [lite.Optimize.DEFAULT]\n",
    "\n",
    "quantized_tflite_model = converter.convert()"
   ],
   "metadata": {
    "collapsed": false
   }
  },
  {
   "cell_type": "code",
   "execution_count": null,
   "outputs": [],
   "source": [
    "def evaluate_model(interpreter):\n",
    "    input_index = interpreter.get_input_details()[0][\"index\"]\n",
    "    output_index = interpreter.get_output_details()[0][\"index\"]\n",
    "    for i in val_generator:\n",
    "        for j in range(len(i[0])):\n",
    "            image = np.expand_dims(i[0][j], axis=0)\n",
    "            target = i[1][j]\n",
    "            interpreter.set_tensor(input_index, image)\n",
    "            interpreter.invoke()\n",
    "            output = interpreter.tensor(output_index)\n",
    "            print(output()[0])\n",
    "    # for i, test_image in enumerate(val_dataset):\n",
    "    #   if i % 1000 == 0:\n",
    "    #     print('Evaluated on {n} results so far.'.format(n=i))\n",
    "    #   # Pre-processing: add batch dimension and convert to float32 to match with\n",
    "    #   # the model's input data format.\n",
    "    #   test_image = np.expand_dims(test_image, axis=0).astype(np.float32)\n",
    "    #   interpreter.set_tensor(input_index, test_image)\n",
    "    # \n",
    "    #   # Run inference.\n",
    "    #   interpreter.invoke()\n",
    "    # \n",
    "    #   # Post-processing: remove batch dimension and find the digit with highest\n",
    "    #   # probability.\n",
    "    #   output = interpreter.tensor(output_index)\n",
    "    #   digit = np.argmax(output()[0])\n",
    "    #   prediction_digits.append(digit)\n",
    "    # \n",
    "    # print('\\n')\n",
    "    # # Compare prediction results with ground truth labels to calculate accuracy.\n",
    "    # prediction_digits = np.array(prediction_digits)\n",
    "    # accuracy = (prediction_digits == test_labels).mean()\n",
    "    # return accuracy\n",
    "\n",
    "\n",
    "evaluate_model(interpreter)"
   ],
   "metadata": {
    "collapsed": false
   }
  },
  {
   "cell_type": "code",
   "execution_count": null,
   "outputs": [],
   "source": [
    "interpreter = lite.Interpreter(model_content=quantized_tflite_model)\n",
    "interpreter.allocate_tensors()\n",
    "\n",
    "# test_accuracy = evaluate_model(interpreter)\n",
    "# \n",
    "# print('Quant TFLite test_accuracy:', test_accuracy)\n",
    "# print('Quant TF test accuracy:', q_aware_model_accuracy)"
   ],
   "metadata": {
    "collapsed": false
   }
  },
  {
   "cell_type": "code",
   "execution_count": null,
   "outputs": [],
   "source": [
    "pred = q_model.predict(val_generator)"
   ],
   "metadata": {
    "collapsed": false
   }
  },
  {
   "cell_type": "code",
   "execution_count": null,
   "outputs": [],
   "source": [
    "for i in pred:\n",
    "    bboxes = [bbox[1:] for bbox in i.reshape((30, 5)) if bbox[0] >= .5]\n",
    "    with open(\"output.txt\", \"w\") as file:\n",
    "        for row in bboxes:\n",
    "            row_str = \" \".join([f\"{item:.50f}\" for item in row])  # Format each number in the row with 2 decimal places and join with spaces\n",
    "            file.write(row_str + \"\\n\")  \n",
    "        file.close()\n",
    "    break\n",
    "# Open the file for reading\n",
    "with open(\"output.txt\", \"r\") as file:\n",
    "    for line in file:\n",
    "        print(line.strip())  # Use strip() to remove leading/trailing whitespace and newline characters"
   ],
   "metadata": {
    "collapsed": false
   }
  },
  {
   "cell_type": "code",
   "execution_count": null,
   "outputs": [],
   "source": [],
   "metadata": {
    "collapsed": false
   }
  }
 ]
}
